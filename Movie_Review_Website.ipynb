{
  "nbformat": 4,
  "nbformat_minor": 0,
  "metadata": {
    "colab": {
      "name": "Movie_Review_Website.ipynb",
      "provenance": []
    },
    "kernelspec": {
      "name": "python3",
      "display_name": "Python 3"
    }
  },
  "cells": [
    {
      "cell_type": "code",
      "metadata": {
        "colab": {
          "base_uri": "https://localhost:8080/"
        },
        "id": "TJdnXwQHPjIn",
        "outputId": "8566ac07-1c9a-4eb0-c42a-67396fae3a2b"
      },
      "source": [
        "!git clone https://github.com/hritiksingh016/sentiment_analysis_v2"
      ],
      "execution_count": 1,
      "outputs": [
        {
          "output_type": "stream",
          "text": [
            "Cloning into 'sentiment_analysis_v2'...\n",
            "remote: Enumerating objects: 41, done.\u001b[K\n",
            "remote: Counting objects: 100% (41/41), done.\u001b[K\n",
            "remote: Compressing objects: 100% (41/41), done.\u001b[K\n",
            "remote: Total 454 (delta 21), reused 0 (delta 0), pack-reused 413\u001b[K\n",
            "Receiving objects: 100% (454/454), 51.41 MiB | 25.15 MiB/s, done.\n",
            "Resolving deltas: 100% (87/87), done.\n"
          ],
          "name": "stdout"
        }
      ]
    },
    {
      "cell_type": "code",
      "metadata": {
        "colab": {
          "base_uri": "https://localhost:8080/"
        },
        "id": "8c81KdkRbvpE",
        "outputId": "85377b4a-44d5-498e-a5b4-f5623776c09d"
      },
      "source": [
        "cd sentiment_analysis_v2/"
      ],
      "execution_count": 2,
      "outputs": [
        {
          "output_type": "stream",
          "text": [
            "/content/sentiment_analysis_v2\n"
          ],
          "name": "stdout"
        }
      ]
    },
    {
      "cell_type": "code",
      "metadata": {
        "colab": {
          "base_uri": "https://localhost:8080/",
          "height": 1000
        },
        "id": "Gp8XSQnfby7S",
        "outputId": "2f91b821-8dba-4703-9dd6-50c4a5088ff3"
      },
      "source": [
        "!pip install -r requirements.txt"
      ],
      "execution_count": 3,
      "outputs": [
        {
          "output_type": "stream",
          "text": [
            "Collecting configobj>=5.0.6\n",
            "  Downloading https://files.pythonhosted.org/packages/64/61/079eb60459c44929e684fa7d9e2fdca403f67d64dd9dbac27296be2e0fab/configobj-5.0.6.tar.gz\n",
            "Collecting configparser>=3.5.0b2\n",
            "  Downloading https://files.pythonhosted.org/packages/08/b2/ef713e0e67f6e7ec7d59aea3ee78d05b39c15930057e724cc6d362a8c3bb/configparser-5.0.1-py3-none-any.whl\n",
            "Requirement already satisfied: Flask>=0.10.1 in /usr/local/lib/python3.6/dist-packages (from -r requirements.txt (line 3)) (1.1.2)\n",
            "Collecting Flask-Babel>=0.11.1\n",
            "  Downloading https://files.pythonhosted.org/packages/ab/3e/02331179ffab8b79e0383606a028b6a60fb1b4419b84935edd43223406a0/Flask_Babel-2.0.0-py3-none-any.whl\n",
            "Collecting Flask-Cors>=2.1.2\n",
            "  Downloading https://files.pythonhosted.org/packages/69/7f/d0aeaaafb5c3c76c8d2141dbe2d4f6dca5d6c31872d4e5349768c1958abc/Flask_Cors-3.0.9-py2.py3-none-any.whl\n",
            "Collecting Flask-Login>=0.4.0\n",
            "  Downloading https://files.pythonhosted.org/packages/2b/83/ac5bf3279f969704fc1e63f050c50e10985e50fd340e6069ec7e09df5442/Flask_Login-0.5.0-py2.py3-none-any.whl\n",
            "Collecting Flask-Mail>=0.9.1\n",
            "\u001b[?25l  Downloading https://files.pythonhosted.org/packages/05/2f/6a545452040c2556559779db87148d2a85e78a26f90326647b51dc5e81e9/Flask-Mail-0.9.1.tar.gz (45kB)\n",
            "\u001b[K     |████████████████████████████████| 51kB 5.2MB/s \n",
            "\u001b[?25hCollecting Flask-OpenID>=1.2.5\n",
            "\u001b[?25l  Downloading https://files.pythonhosted.org/packages/d1/a2/9d1fba3287a65f81b9d1c09c4f7cb16f8ea4988b1bc97ffea0d60983338f/Flask-OpenID-1.2.5.tar.gz (43kB)\n",
            "\u001b[K     |████████████████████████████████| 51kB 5.9MB/s \n",
            "\u001b[?25hCollecting Flask-SQLAlchemy>=2.1\n",
            "  Downloading https://files.pythonhosted.org/packages/af/4b/3dd83c3e2c6e3034b804d971952e0120606506f153990cc56d2d33173b72/Flask_SQLAlchemy-2.4.4-py2.py3-none-any.whl\n",
            "Collecting Flask-Uploads>=0.2.1\n",
            "  Downloading https://files.pythonhosted.org/packages/c9/a8/2c8e9ec04267d94b7852a374cebeb9a32d60f8cba83818af960e64fafbec/Flask-Uploads-0.2.1.tar.gz\n",
            "Collecting Flask-WhooshAlchemy>=0.56\n",
            "  Downloading https://files.pythonhosted.org/packages/4c/85/97e502c02b93351fcc7fd6f5570f2698ae9f29a47ccc069f7347b6e94eb1/Flask-WhooshAlchemy-0.56.tar.gz\n",
            "Collecting Flask-WTF>=0.14.2\n",
            "  Downloading https://files.pythonhosted.org/packages/36/a9/8c01171066bd7a524ee005d81bb4a8aa446ab178043a1ad6cb5dc8f0bd83/Flask_WTF-0.14.3-py2.py3-none-any.whl\n",
            "Collecting flipflop>=1.0\n",
            "  Downloading https://files.pythonhosted.org/packages/a8/02/3f471f1fbf7ccacf52ed10f3aa9cdfe6b51f1fdcd6a2d4c33eaae7ae8075/flipflop-1.0.tar.gz\n",
            "Requirement already satisfied: gensim>=1.0.0 in /usr/local/lib/python3.6/dist-packages (from -r requirements.txt (line 14)) (3.6.0)\n",
            "Collecting gunicorn>=19.6.0\n",
            "\u001b[?25l  Downloading https://files.pythonhosted.org/packages/69/ca/926f7cd3a2014b16870086b2d0fdc84a9e49473c68a8dff8b57f7c156f43/gunicorn-20.0.4-py2.py3-none-any.whl (77kB)\n",
            "\u001b[K     |████████████████████████████████| 81kB 6.2MB/s \n",
            "\u001b[?25hRequirement already satisfied: Jinja2>=2.8 in /usr/local/lib/python3.6/dist-packages (from -r requirements.txt (line 16)) (2.11.2)\n",
            "Requirement already satisfied: numpy>=1.13.1 in /usr/local/lib/python3.6/dist-packages (from -r requirements.txt (line 17)) (1.18.5)\n",
            "Collecting pickleshare==0.7.4\n",
            "  Downloading https://files.pythonhosted.org/packages/9f/17/daa142fc9be6b76f26f24eeeb9a138940671490b91cb5587393f297c8317/pickleshare-0.7.4-py2.py3-none-any.whl\n",
            "Requirement already satisfied: pandas>=0.18.1 in /usr/local/lib/python3.6/dist-packages (from -r requirements.txt (line 19)) (1.1.4)\n",
            "Requirement already satisfied: requests>=2.13.0 in /usr/local/lib/python3.6/dist-packages (from -r requirements.txt (line 20)) (2.23.0)\n",
            "Requirement already satisfied: scikit-image>=0.12.3 in /usr/local/lib/python3.6/dist-packages (from -r requirements.txt (line 21)) (0.16.2)\n",
            "Requirement already satisfied: scikit-learn>=0.18.1 in /usr/local/lib/python3.6/dist-packages (from -r requirements.txt (line 22)) (0.22.2.post1)\n",
            "Requirement already satisfied: scipy>=0.19.1 in /usr/local/lib/python3.6/dist-packages (from -r requirements.txt (line 23)) (1.4.1)\n",
            "Requirement already satisfied: tensorflow>=1.2.1 in /usr/local/lib/python3.6/dist-packages (from -r requirements.txt (line 24)) (2.3.0)\n",
            "Collecting unicodecsv==0.14.1\n",
            "  Downloading https://files.pythonhosted.org/packages/6f/a4/691ab63b17505a26096608cc309960b5a6bdf39e4ba1a793d5f9b1a53270/unicodecsv-0.14.1.tar.gz\n",
            "Requirement already satisfied: keras>=2.0 in /usr/local/lib/python3.6/dist-packages (from -r requirements.txt (line 26)) (2.4.3)\n",
            "Collecting flask_ngrok\n",
            "  Downloading https://files.pythonhosted.org/packages/af/6c/f54cb686ad1129e27d125d182f90f52b32f284e6c8df58c1bae54fa1adbc/flask_ngrok-0.0.25-py3-none-any.whl\n",
            "Requirement already satisfied: pytz in /usr/local/lib/python3.6/dist-packages (from -r requirements.txt (line 28)) (2018.9)\n",
            "Requirement already satisfied: six in /usr/local/lib/python3.6/dist-packages (from configobj>=5.0.6->-r requirements.txt (line 1)) (1.15.0)\n",
            "Requirement already satisfied: Werkzeug>=0.15 in /usr/local/lib/python3.6/dist-packages (from Flask>=0.10.1->-r requirements.txt (line 3)) (1.0.1)\n",
            "Requirement already satisfied: itsdangerous>=0.24 in /usr/local/lib/python3.6/dist-packages (from Flask>=0.10.1->-r requirements.txt (line 3)) (1.1.0)\n",
            "Requirement already satisfied: click>=5.1 in /usr/local/lib/python3.6/dist-packages (from Flask>=0.10.1->-r requirements.txt (line 3)) (7.1.2)\n",
            "Requirement already satisfied: Babel>=2.3 in /usr/local/lib/python3.6/dist-packages (from Flask-Babel>=0.11.1->-r requirements.txt (line 4)) (2.9.0)\n",
            "Collecting blinker\n",
            "\u001b[?25l  Downloading https://files.pythonhosted.org/packages/1b/51/e2a9f3b757eb802f61dc1f2b09c8c99f6eb01cf06416c0671253536517b6/blinker-1.4.tar.gz (111kB)\n",
            "\u001b[K     |████████████████████████████████| 112kB 37.4MB/s \n",
            "\u001b[?25hCollecting python3-openid>=2.0\n",
            "\u001b[?25l  Downloading https://files.pythonhosted.org/packages/e0/a5/c6ba13860bdf5525f1ab01e01cc667578d6f1efc8a1dba355700fb04c29b/python3_openid-3.2.0-py3-none-any.whl (133kB)\n",
            "\u001b[K     |████████████████████████████████| 143kB 39.8MB/s \n",
            "\u001b[?25hRequirement already satisfied: SQLAlchemy>=0.8.0 in /usr/local/lib/python3.6/dist-packages (from Flask-SQLAlchemy>=2.1->-r requirements.txt (line 9)) (1.3.20)\n",
            "Collecting Whoosh\n",
            "\u001b[?25l  Downloading https://files.pythonhosted.org/packages/ba/19/24d0f1f454a2c1eb689ca28d2f178db81e5024f42d82729a4ff6771155cf/Whoosh-2.7.4-py2.py3-none-any.whl (468kB)\n",
            "\u001b[K     |████████████████████████████████| 471kB 41.2MB/s \n",
            "\u001b[?25hCollecting WTForms\n",
            "\u001b[?25l  Downloading https://files.pythonhosted.org/packages/e0/31/614fc7dc7d76005b0acb8c0c8920d962b83d7422b4ba912886dfb63f86ff/WTForms-2.3.3-py2.py3-none-any.whl (169kB)\n",
            "\u001b[K     |████████████████████████████████| 174kB 42.5MB/s \n",
            "\u001b[?25hRequirement already satisfied: smart-open>=1.2.1 in /usr/local/lib/python3.6/dist-packages (from gensim>=1.0.0->-r requirements.txt (line 14)) (3.0.0)\n",
            "Requirement already satisfied: setuptools>=3.0 in /usr/local/lib/python3.6/dist-packages (from gunicorn>=19.6.0->-r requirements.txt (line 15)) (50.3.2)\n",
            "Requirement already satisfied: MarkupSafe>=0.23 in /usr/local/lib/python3.6/dist-packages (from Jinja2>=2.8->-r requirements.txt (line 16)) (1.1.1)\n",
            "Requirement already satisfied: python-dateutil>=2.7.3 in /usr/local/lib/python3.6/dist-packages (from pandas>=0.18.1->-r requirements.txt (line 19)) (2.8.1)\n",
            "Requirement already satisfied: chardet<4,>=3.0.2 in /usr/local/lib/python3.6/dist-packages (from requests>=2.13.0->-r requirements.txt (line 20)) (3.0.4)\n",
            "Requirement already satisfied: urllib3!=1.25.0,!=1.25.1,<1.26,>=1.21.1 in /usr/local/lib/python3.6/dist-packages (from requests>=2.13.0->-r requirements.txt (line 20)) (1.24.3)\n",
            "Requirement already satisfied: idna<3,>=2.5 in /usr/local/lib/python3.6/dist-packages (from requests>=2.13.0->-r requirements.txt (line 20)) (2.10)\n",
            "Requirement already satisfied: certifi>=2017.4.17 in /usr/local/lib/python3.6/dist-packages (from requests>=2.13.0->-r requirements.txt (line 20)) (2020.11.8)\n",
            "Requirement already satisfied: imageio>=2.3.0 in /usr/local/lib/python3.6/dist-packages (from scikit-image>=0.12.3->-r requirements.txt (line 21)) (2.4.1)\n",
            "Requirement already satisfied: networkx>=2.0 in /usr/local/lib/python3.6/dist-packages (from scikit-image>=0.12.3->-r requirements.txt (line 21)) (2.5)\n",
            "Requirement already satisfied: pillow>=4.3.0 in /usr/local/lib/python3.6/dist-packages (from scikit-image>=0.12.3->-r requirements.txt (line 21)) (7.0.0)\n",
            "Requirement already satisfied: matplotlib!=3.0.0,>=2.0.0 in /usr/local/lib/python3.6/dist-packages (from scikit-image>=0.12.3->-r requirements.txt (line 21)) (3.2.2)\n",
            "Requirement already satisfied: PyWavelets>=0.4.0 in /usr/local/lib/python3.6/dist-packages (from scikit-image>=0.12.3->-r requirements.txt (line 21)) (1.1.1)\n",
            "Requirement already satisfied: joblib>=0.11 in /usr/local/lib/python3.6/dist-packages (from scikit-learn>=0.18.1->-r requirements.txt (line 22)) (0.17.0)\n",
            "Requirement already satisfied: opt-einsum>=2.3.2 in /usr/local/lib/python3.6/dist-packages (from tensorflow>=1.2.1->-r requirements.txt (line 24)) (3.3.0)\n",
            "Requirement already satisfied: tensorboard<3,>=2.3.0 in /usr/local/lib/python3.6/dist-packages (from tensorflow>=1.2.1->-r requirements.txt (line 24)) (2.3.0)\n",
            "Requirement already satisfied: google-pasta>=0.1.8 in /usr/local/lib/python3.6/dist-packages (from tensorflow>=1.2.1->-r requirements.txt (line 24)) (0.2.0)\n",
            "Requirement already satisfied: tensorflow-estimator<2.4.0,>=2.3.0 in /usr/local/lib/python3.6/dist-packages (from tensorflow>=1.2.1->-r requirements.txt (line 24)) (2.3.0)\n",
            "Requirement already satisfied: astunparse==1.6.3 in /usr/local/lib/python3.6/dist-packages (from tensorflow>=1.2.1->-r requirements.txt (line 24)) (1.6.3)\n",
            "Requirement already satisfied: wrapt>=1.11.1 in /usr/local/lib/python3.6/dist-packages (from tensorflow>=1.2.1->-r requirements.txt (line 24)) (1.12.1)\n",
            "Requirement already satisfied: absl-py>=0.7.0 in /usr/local/lib/python3.6/dist-packages (from tensorflow>=1.2.1->-r requirements.txt (line 24)) (0.10.0)\n",
            "Requirement already satisfied: grpcio>=1.8.6 in /usr/local/lib/python3.6/dist-packages (from tensorflow>=1.2.1->-r requirements.txt (line 24)) (1.33.2)\n",
            "Requirement already satisfied: wheel>=0.26 in /usr/local/lib/python3.6/dist-packages (from tensorflow>=1.2.1->-r requirements.txt (line 24)) (0.35.1)\n",
            "Requirement already satisfied: h5py<2.11.0,>=2.10.0 in /usr/local/lib/python3.6/dist-packages (from tensorflow>=1.2.1->-r requirements.txt (line 24)) (2.10.0)\n",
            "Requirement already satisfied: protobuf>=3.9.2 in /usr/local/lib/python3.6/dist-packages (from tensorflow>=1.2.1->-r requirements.txt (line 24)) (3.12.4)\n",
            "Requirement already satisfied: keras-preprocessing<1.2,>=1.1.1 in /usr/local/lib/python3.6/dist-packages (from tensorflow>=1.2.1->-r requirements.txt (line 24)) (1.1.2)\n",
            "Requirement already satisfied: termcolor>=1.1.0 in /usr/local/lib/python3.6/dist-packages (from tensorflow>=1.2.1->-r requirements.txt (line 24)) (1.1.0)\n",
            "Requirement already satisfied: gast==0.3.3 in /usr/local/lib/python3.6/dist-packages (from tensorflow>=1.2.1->-r requirements.txt (line 24)) (0.3.3)\n",
            "Requirement already satisfied: pyyaml in /usr/local/lib/python3.6/dist-packages (from keras>=2.0->-r requirements.txt (line 26)) (3.13)\n",
            "Requirement already satisfied: defusedxml in /usr/local/lib/python3.6/dist-packages (from python3-openid>=2.0->Flask-OpenID>=1.2.5->-r requirements.txt (line 8)) (0.6.0)\n",
            "Requirement already satisfied: decorator>=4.3.0 in /usr/local/lib/python3.6/dist-packages (from networkx>=2.0->scikit-image>=0.12.3->-r requirements.txt (line 21)) (4.4.2)\n",
            "Requirement already satisfied: kiwisolver>=1.0.1 in /usr/local/lib/python3.6/dist-packages (from matplotlib!=3.0.0,>=2.0.0->scikit-image>=0.12.3->-r requirements.txt (line 21)) (1.3.1)\n",
            "Requirement already satisfied: cycler>=0.10 in /usr/local/lib/python3.6/dist-packages (from matplotlib!=3.0.0,>=2.0.0->scikit-image>=0.12.3->-r requirements.txt (line 21)) (0.10.0)\n",
            "Requirement already satisfied: pyparsing!=2.0.4,!=2.1.2,!=2.1.6,>=2.0.1 in /usr/local/lib/python3.6/dist-packages (from matplotlib!=3.0.0,>=2.0.0->scikit-image>=0.12.3->-r requirements.txt (line 21)) (2.4.7)\n",
            "Requirement already satisfied: markdown>=2.6.8 in /usr/local/lib/python3.6/dist-packages (from tensorboard<3,>=2.3.0->tensorflow>=1.2.1->-r requirements.txt (line 24)) (3.3.3)\n",
            "Requirement already satisfied: google-auth-oauthlib<0.5,>=0.4.1 in /usr/local/lib/python3.6/dist-packages (from tensorboard<3,>=2.3.0->tensorflow>=1.2.1->-r requirements.txt (line 24)) (0.4.2)\n",
            "Requirement already satisfied: tensorboard-plugin-wit>=1.6.0 in /usr/local/lib/python3.6/dist-packages (from tensorboard<3,>=2.3.0->tensorflow>=1.2.1->-r requirements.txt (line 24)) (1.7.0)\n",
            "Requirement already satisfied: google-auth<2,>=1.6.3 in /usr/local/lib/python3.6/dist-packages (from tensorboard<3,>=2.3.0->tensorflow>=1.2.1->-r requirements.txt (line 24)) (1.17.2)\n",
            "Requirement already satisfied: importlib-metadata; python_version < \"3.8\" in /usr/local/lib/python3.6/dist-packages (from markdown>=2.6.8->tensorboard<3,>=2.3.0->tensorflow>=1.2.1->-r requirements.txt (line 24)) (2.0.0)\n",
            "Requirement already satisfied: requests-oauthlib>=0.7.0 in /usr/local/lib/python3.6/dist-packages (from google-auth-oauthlib<0.5,>=0.4.1->tensorboard<3,>=2.3.0->tensorflow>=1.2.1->-r requirements.txt (line 24)) (1.3.0)\n",
            "Requirement already satisfied: rsa<5,>=3.1.4; python_version >= \"3\" in /usr/local/lib/python3.6/dist-packages (from google-auth<2,>=1.6.3->tensorboard<3,>=2.3.0->tensorflow>=1.2.1->-r requirements.txt (line 24)) (4.6)\n",
            "Requirement already satisfied: pyasn1-modules>=0.2.1 in /usr/local/lib/python3.6/dist-packages (from google-auth<2,>=1.6.3->tensorboard<3,>=2.3.0->tensorflow>=1.2.1->-r requirements.txt (line 24)) (0.2.8)\n",
            "Requirement already satisfied: cachetools<5.0,>=2.0.0 in /usr/local/lib/python3.6/dist-packages (from google-auth<2,>=1.6.3->tensorboard<3,>=2.3.0->tensorflow>=1.2.1->-r requirements.txt (line 24)) (4.1.1)\n",
            "Requirement already satisfied: zipp>=0.5 in /usr/local/lib/python3.6/dist-packages (from importlib-metadata; python_version < \"3.8\"->markdown>=2.6.8->tensorboard<3,>=2.3.0->tensorflow>=1.2.1->-r requirements.txt (line 24)) (3.4.0)\n",
            "Requirement already satisfied: oauthlib>=3.0.0 in /usr/local/lib/python3.6/dist-packages (from requests-oauthlib>=0.7.0->google-auth-oauthlib<0.5,>=0.4.1->tensorboard<3,>=2.3.0->tensorflow>=1.2.1->-r requirements.txt (line 24)) (3.1.0)\n",
            "Requirement already satisfied: pyasn1>=0.1.3 in /usr/local/lib/python3.6/dist-packages (from rsa<5,>=3.1.4; python_version >= \"3\"->google-auth<2,>=1.6.3->tensorboard<3,>=2.3.0->tensorflow>=1.2.1->-r requirements.txt (line 24)) (0.4.8)\n",
            "Building wheels for collected packages: configobj, Flask-Mail, Flask-OpenID, Flask-Uploads, Flask-WhooshAlchemy, flipflop, unicodecsv, blinker\n",
            "  Building wheel for configobj (setup.py) ... \u001b[?25l\u001b[?25hdone\n",
            "  Created wheel for configobj: filename=configobj-5.0.6-cp36-none-any.whl size=34547 sha256=2faae58f8dc8861991da7c4616f86fdecb0d2719e0b50de6dab3541ff0614585\n",
            "  Stored in directory: /root/.cache/pip/wheels/f1/e4/16/4981ca97c2d65106b49861e0b35e2660695be7219a2d351ee0\n",
            "  Building wheel for Flask-Mail (setup.py) ... \u001b[?25l\u001b[?25hdone\n",
            "  Created wheel for Flask-Mail: filename=Flask_Mail-0.9.1-cp36-none-any.whl size=7569 sha256=4759f03a9655016c69f4f614d5214fa68aec29c76b0771078af18b77d5d67fe4\n",
            "  Stored in directory: /root/.cache/pip/wheels/eb/aa/d9/34b8f2f9bce7d06a4d07fd46078770584d5504949ebfa286f5\n",
            "  Building wheel for Flask-OpenID (setup.py) ... \u001b[?25l\u001b[?25hdone\n",
            "  Created wheel for Flask-OpenID: filename=Flask_OpenID-1.2.5-cp36-none-any.whl size=9121 sha256=9e1593f764d77fbdf78de1574016c50bf4099370eb1825244cba70bf7145cfb9\n",
            "  Stored in directory: /root/.cache/pip/wheels/3b/1e/c0/b941aa1a5954f1acabbf1671a64e27adc359c0b0e74b16f8b4\n",
            "  Building wheel for Flask-Uploads (setup.py) ... \u001b[?25l\u001b[?25hdone\n",
            "  Created wheel for Flask-Uploads: filename=Flask_Uploads-0.2.1-cp36-none-any.whl size=8070 sha256=789c1c5544986e4a43573da968e3c91065906408a38b4a81819b0070cfc2bb26\n",
            "  Stored in directory: /root/.cache/pip/wheels/af/41/f6/0c357a43a5680e7690ce50337ab7fe9304795910ac10e15ce6\n",
            "  Building wheel for Flask-WhooshAlchemy (setup.py) ... \u001b[?25l\u001b[?25hdone\n",
            "  Created wheel for Flask-WhooshAlchemy: filename=Flask_WhooshAlchemy-0.56-cp36-none-any.whl size=7267 sha256=285b05660d3f8b363137aed3168b72c6f55092d48a6852907beec73aa5f5f8ad\n",
            "  Stored in directory: /root/.cache/pip/wheels/a9/ae/7a/948308d6b73021b8c21c06befc4fb5140b57475a688d80982a\n",
            "  Building wheel for flipflop (setup.py) ... \u001b[?25l\u001b[?25hdone\n",
            "  Created wheel for flipflop: filename=flipflop-1.0-cp36-none-any.whl size=11238 sha256=91c92eebb9553a73bfcf424a985876a6736bad4c891143b9b2781c6124b136c9\n",
            "  Stored in directory: /root/.cache/pip/wheels/e0/12/60/d1f09c3ef7da36d95a0d3b220096b8e3c110d0e5b4886b4f4b\n",
            "  Building wheel for unicodecsv (setup.py) ... \u001b[?25l\u001b[?25hdone\n",
            "  Created wheel for unicodecsv: filename=unicodecsv-0.14.1-cp36-none-any.whl size=10769 sha256=0bcafa75a0b616d3f35bf5fc3c9836ac09b46e0f2705f7ba4052ec5ae01032ce\n",
            "  Stored in directory: /root/.cache/pip/wheels/a6/09/e9/e800279c98a0a8c94543f3de6c8a562f60e51363ed26e71283\n",
            "  Building wheel for blinker (setup.py) ... \u001b[?25l\u001b[?25hdone\n",
            "  Created wheel for blinker: filename=blinker-1.4-cp36-none-any.whl size=13450 sha256=b6d7475e0f8c17a1387c20eeb3fdfed921c4201cb78bc247b51d20bddf082a29\n",
            "  Stored in directory: /root/.cache/pip/wheels/92/a0/00/8690a57883956a301d91cf4ec999cc0b258b01e3f548f86e89\n",
            "Successfully built configobj Flask-Mail Flask-OpenID Flask-Uploads Flask-WhooshAlchemy flipflop unicodecsv blinker\n",
            "Installing collected packages: configobj, configparser, Flask-Babel, Flask-Cors, Flask-Login, blinker, Flask-Mail, python3-openid, Flask-OpenID, Flask-SQLAlchemy, Flask-Uploads, Whoosh, Flask-WhooshAlchemy, WTForms, Flask-WTF, flipflop, gunicorn, pickleshare, unicodecsv, flask-ngrok\n",
            "  Found existing installation: pickleshare 0.7.5\n",
            "    Uninstalling pickleshare-0.7.5:\n",
            "      Successfully uninstalled pickleshare-0.7.5\n",
            "Successfully installed Flask-Babel-2.0.0 Flask-Cors-3.0.9 Flask-Login-0.5.0 Flask-Mail-0.9.1 Flask-OpenID-1.2.5 Flask-SQLAlchemy-2.4.4 Flask-Uploads-0.2.1 Flask-WTF-0.14.3 Flask-WhooshAlchemy-0.56 WTForms-2.3.3 Whoosh-2.7.4 blinker-1.4 configobj-5.0.6 configparser-5.0.1 flask-ngrok-0.0.25 flipflop-1.0 gunicorn-20.0.4 pickleshare-0.7.4 python3-openid-3.2.0 unicodecsv-0.14.1\n"
          ],
          "name": "stdout"
        },
        {
          "output_type": "display_data",
          "data": {
            "application/vnd.colab-display-data+json": {
              "pip_warning": {
                "packages": [
                  "pickleshare"
                ]
              }
            }
          },
          "metadata": {
            "tags": []
          }
        }
      ]
    },
    {
      "cell_type": "code",
      "metadata": {
        "id": "mFRrQ1dzb3Hy"
      },
      "source": [
        "from app import db"
      ],
      "execution_count": 4,
      "outputs": []
    },
    {
      "cell_type": "code",
      "metadata": {
        "id": "15ojyzOQb7oJ"
      },
      "source": [
        "db.create_all()"
      ],
      "execution_count": 5,
      "outputs": []
    },
    {
      "cell_type": "code",
      "metadata": {
        "colab": {
          "base_uri": "https://localhost:8080/"
        },
        "id": "MWmZCI8Lb7vi",
        "outputId": "1b7b0da9-37f3-439a-eabf-bdffb8a53f7f"
      },
      "source": [
        "!pip install db-sqlite3"
      ],
      "execution_count": 6,
      "outputs": [
        {
          "output_type": "stream",
          "text": [
            "Collecting db-sqlite3\n",
            "  Downloading https://files.pythonhosted.org/packages/ff/00/e1f3d7bf1e0bff7c0574c0d5535c041e139d4ce43db196147e4c62f52ed5/db-sqlite3-0.0.1.tar.gz\n",
            "Collecting db\n",
            "  Downloading https://files.pythonhosted.org/packages/a9/22/f65d64c83e63790b3273c6adb3bff338ad594f46d84b41bd1f94593b40a6/db-0.1.1.tar.gz\n",
            "Collecting antiorm\n",
            "\u001b[?25l  Downloading https://files.pythonhosted.org/packages/0b/f8/71baa4824d9666c1be51d117119579a97f461ddbded48b2e01a6ad0554b5/antiorm-1.2.1.tar.gz (171kB)\n",
            "\u001b[K     |████████████████████████████████| 174kB 6.0MB/s \n",
            "\u001b[?25hBuilding wheels for collected packages: db-sqlite3, db, antiorm\n",
            "  Building wheel for db-sqlite3 (setup.py) ... \u001b[?25l\u001b[?25hdone\n",
            "  Created wheel for db-sqlite3: filename=db_sqlite3-0.0.1-cp36-none-any.whl size=1797 sha256=76b6482ffe5a1c3ac168b81d05c58df0c9d760e6cb14389eadb9b13eff604c32\n",
            "  Stored in directory: /root/.cache/pip/wheels/e0/f8/cb/08e3a3a63bdea9ac3a0cccd140636b6cf94e3fb7df1070b12e\n",
            "  Building wheel for db (setup.py) ... \u001b[?25l\u001b[?25hdone\n",
            "  Created wheel for db: filename=db-0.1.1-cp36-none-any.whl size=3894 sha256=9261353a7085762725784df55e9f4004e76bc728804b8325d2af6aef2763ac56\n",
            "  Stored in directory: /root/.cache/pip/wheels/30/eb/ba/237fa002d1d1b2e73cedcefd26a9db37c4b72c7e5156ea0501\n",
            "  Building wheel for antiorm (setup.py) ... \u001b[?25l\u001b[?25hdone\n",
            "  Created wheel for antiorm: filename=antiorm-1.2.1-cp36-none-any.whl size=31664 sha256=326e9174e55cfcc1ac05a3f4a1f1126b78421ebdd67d45b38a6cca3422a7fe8a\n",
            "  Stored in directory: /root/.cache/pip/wheels/b0/91/4d/f8fe808786ff1cda9e7e99e1b1bbda9196ab26786017965313\n",
            "Successfully built db-sqlite3 db antiorm\n",
            "Installing collected packages: antiorm, db, db-sqlite3\n",
            "Successfully installed antiorm-1.2.1 db-0.1.1 db-sqlite3-0.0.1\n"
          ],
          "name": "stdout"
        }
      ]
    },
    {
      "cell_type": "code",
      "metadata": {
        "id": "OHldDKdPcEZB"
      },
      "source": [
        "import sqlite3\n",
        "conn = sqlite3.connect('db.sqlite3')"
      ],
      "execution_count": 7,
      "outputs": []
    },
    {
      "cell_type": "code",
      "metadata": {
        "colab": {
          "base_uri": "https://localhost:8080/"
        },
        "id": "TKXfWHEgcEjB",
        "outputId": "b281bd6a-613d-41c9-a31b-712385dfd119"
      },
      "source": [
        "!python app.py"
      ],
      "execution_count": 8,
      "outputs": [
        {
          "output_type": "stream",
          "text": [
            "2020-12-04 19:47:06.981519: I tensorflow/stream_executor/platform/default/dso_loader.cc:48] Successfully opened dynamic library libcudart.so.10.1\n",
            " * Serving Flask app \"app\" (lazy loading)\n",
            " * Environment: production\n",
            "\u001b[31m   WARNING: This is a development server. Do not use it in a production deployment.\u001b[0m\n",
            "\u001b[2m   Use a production WSGI server instead.\u001b[0m\n",
            " * Debug mode: off\n",
            " * Running on http://127.0.0.1:5000/ (Press CTRL+C to quit)\n",
            " * Running on http://16ed8d5ec12e.ngrok.io\n",
            " * Traffic stats available on http://127.0.0.1:4040\n",
            "127.0.0.1 - - [04/Dec/2020 19:47:29] \"\u001b[37mGET / HTTP/1.1\u001b[0m\" 200 -\n",
            "127.0.0.1 - - [04/Dec/2020 19:47:29] \"\u001b[37mGET /static/css/style.css HTTP/1.1\u001b[0m\" 200 -\n",
            "127.0.0.1 - - [04/Dec/2020 19:47:29] \"\u001b[37mGET /static/css/plugins.css HTTP/1.1\u001b[0m\" 200 -\n",
            "127.0.0.1 - - [04/Dec/2020 19:47:30] \"\u001b[37mGET /static/images/logo1.png HTTP/1.1\u001b[0m\" 200 -\n",
            "127.0.0.1 - - [04/Dec/2020 19:47:30] \"\u001b[37mGET /static/poster/avengers.jpg HTTP/1.1\u001b[0m\" 200 -\n",
            "127.0.0.1 - - [04/Dec/2020 19:47:30] \"\u001b[37mGET /static/poster/hp7.jpg HTTP/1.1\u001b[0m\" 200 -\n",
            "127.0.0.1 - - [04/Dec/2020 19:47:30] \"\u001b[37mGET /static/poster/ch.jpg HTTP/1.1\u001b[0m\" 200 -\n",
            "127.0.0.1 - - [04/Dec/2020 19:47:30] \"\u001b[37mGET /static/js/jquery.js HTTP/1.1\u001b[0m\" 200 -\n",
            "127.0.0.1 - - [04/Dec/2020 19:47:32] \"\u001b[37mGET /static/js/plugins.js HTTP/1.1\u001b[0m\" 200 -\n",
            "127.0.0.1 - - [04/Dec/2020 19:47:32] \"\u001b[37mGET /static/js/plugins2.js HTTP/1.1\u001b[0m\" 200 -\n",
            "127.0.0.1 - - [04/Dec/2020 19:47:33] \"\u001b[37mGET /static/js/custom.js HTTP/1.1\u001b[0m\" 200 -\n",
            "127.0.0.1 - - [04/Dec/2020 19:47:34] \"\u001b[37mGET /static/poster/sd.jpg HTTP/1.1\u001b[0m\" 200 -\n",
            "127.0.0.1 - - [04/Dec/2020 19:47:35] \"\u001b[37mGET /static/poster/laxmii.jpg HTTP/1.1\u001b[0m\" 200 -\n",
            "127.0.0.1 - - [04/Dec/2020 19:47:37] \"\u001b[37mGET /static/poster/batman.webp HTTP/1.1\u001b[0m\" 200 -\n",
            "127.0.0.1 - - [04/Dec/2020 19:47:38] \"\u001b[37mGET /static/images/uploads/slider-bg.jpg HTTP/1.1\u001b[0m\" 200 -\n",
            "127.0.0.1 - - [04/Dec/2020 19:47:38] \"\u001b[37mGET /static/poster/bw.jpg HTTP/1.1\u001b[0m\" 200 -\n",
            "127.0.0.1 - - [04/Dec/2020 19:47:38] \"\u001b[37mGET /static/images/call1.png HTTP/1.1\u001b[0m\" 200 -\n",
            "127.0.0.1 - - [04/Dec/2020 19:47:38] \"\u001b[37mGET /static/images/gmail.png HTTP/1.1\u001b[0m\" 200 -\n",
            "127.0.0.1 - - [04/Dec/2020 19:47:39] \"\u001b[37mGET /static/images/uploads/ft-bg.jpg HTTP/1.1\u001b[0m\" 200 -\n",
            "127.0.0.1 - - [04/Dec/2020 19:47:42] \"\u001b[37mGET /static/css/ajax-loader.html HTTP/1.1\u001b[0m\" 200 -\n",
            "127.0.0.1 - - [04/Dec/2020 19:47:42] \"\u001b[33mGET /favicon.ico HTTP/1.1\u001b[0m\" 404 -\n",
            "127.0.0.1 - - [04/Dec/2020 19:48:49] \"\u001b[37mGET /signup HTTP/1.1\u001b[0m\" 200 -\n",
            "127.0.0.1 - - [04/Dec/2020 19:48:49] \"\u001b[37mGET /static/signup/fonts/material-icon/css/material-design-iconic-font.min.css HTTP/1.1\u001b[0m\" 200 -\n",
            "127.0.0.1 - - [04/Dec/2020 19:48:49] \"\u001b[37mGET /static/signup/css/style.css HTTP/1.1\u001b[0m\" 200 -\n",
            "127.0.0.1 - - [04/Dec/2020 19:48:49] \"\u001b[37mGET /static/signup/vendor/jquery/jquery.min.js HTTP/1.1\u001b[0m\" 200 -\n",
            "127.0.0.1 - - [04/Dec/2020 19:48:49] \"\u001b[37mGET /static/signup/js/main.js HTTP/1.1\u001b[0m\" 200 -\n",
            "127.0.0.1 - - [04/Dec/2020 19:48:50] \"\u001b[37mGET /static/signup/images/body-bg.jpg HTTP/1.1\u001b[0m\" 200 -\n",
            "127.0.0.1 - - [04/Dec/2020 19:48:50] \"\u001b[37mGET /static/signup/images/container-bg.png HTTP/1.1\u001b[0m\" 200 -\n",
            "127.0.0.1 - - [04/Dec/2020 19:48:50] \"\u001b[37mGET /static/signup/fonts/poppins/poppins-v5-latin-700.woff2 HTTP/1.1\u001b[0m\" 200 -\n",
            "127.0.0.1 - - [04/Dec/2020 19:48:50] \"\u001b[37mGET /static/signup/fonts/poppins/poppins-v5-latin-regular.woff2 HTTP/1.1\u001b[0m\" 200 -\n",
            "127.0.0.1 - - [04/Dec/2020 19:48:51] \"\u001b[37mGET /static/signup/fonts/material-icon/fonts/Material-Design-Iconic-Font.woff2?v=2.2.0 HTTP/1.1\u001b[0m\" 200 -\n",
            "127.0.0.1 - - [04/Dec/2020 19:48:51] \"\u001b[37mGET /static/signup/fonts/poppins/poppins-v5-latin-600.woff2 HTTP/1.1\u001b[0m\" 200 -\n",
            "127.0.0.1 - - [04/Dec/2020 19:49:11] \"\u001b[37mPOST /signup HTTP/1.1\u001b[0m\" 200 -\n",
            "127.0.0.1 - - [04/Dec/2020 19:49:16] \"\u001b[37mGET /login HTTP/1.1\u001b[0m\" 200 -\n",
            "127.0.0.1 - - [04/Dec/2020 19:49:26] \"\u001b[32mPOST /login HTTP/1.1\u001b[0m\" 302 -\n",
            "127.0.0.1 - - [04/Dec/2020 19:49:27] \"\u001b[37mGET /admin HTTP/1.1\u001b[0m\" 200 -\n",
            "127.0.0.1 - - [04/Dec/2020 19:49:34] \"\u001b[37mGET / HTTP/1.1\u001b[0m\" 200 -\n",
            "127.0.0.1 - - [04/Dec/2020 19:49:40] \"\u001b[37mGET /signup HTTP/1.1\u001b[0m\" 200 -\n",
            "127.0.0.1 - - [04/Dec/2020 19:50:05] \"\u001b[37mPOST /signup HTTP/1.1\u001b[0m\" 200 -\n",
            "127.0.0.1 - - [04/Dec/2020 19:50:09] \"\u001b[37mGET /login HTTP/1.1\u001b[0m\" 200 -\n",
            "127.0.0.1 - - [04/Dec/2020 19:50:18] \"\u001b[32mPOST /login HTTP/1.1\u001b[0m\" 302 -\n",
            "127.0.0.1 - - [04/Dec/2020 19:50:19] \"\u001b[37mGET /dashboard HTTP/1.1\u001b[0m\" 200 -\n",
            "call predict\n",
            "2020-12-04 19:51:11.887390: I tensorflow/stream_executor/platform/default/dso_loader.cc:48] Successfully opened dynamic library libcuda.so.1\n",
            "2020-12-04 19:51:11.949495: E tensorflow/stream_executor/cuda/cuda_driver.cc:314] failed call to cuInit: CUDA_ERROR_NO_DEVICE: no CUDA-capable device is detected\n",
            "2020-12-04 19:51:11.949555: I tensorflow/stream_executor/cuda/cuda_diagnostics.cc:156] kernel driver does not appear to be running on this host (114cf48fb720): /proc/driver/nvidia/version does not exist\n",
            "2020-12-04 19:51:11.966196: I tensorflow/core/platform/profile_utils/cpu_utils.cc:104] CPU Frequency: 2300000000 Hz\n",
            "2020-12-04 19:51:11.966539: I tensorflow/compiler/xla/service/service.cc:168] XLA service 0x2616d80 initialized for platform Host (this does not guarantee that XLA will be used). Devices:\n",
            "2020-12-04 19:51:11.966575: I tensorflow/compiler/xla/service/service.cc:176]   StreamExecutor device (0): Host, Default Version\n",
            "Loaded model from disk\n",
            "[[0.8793391]]\n",
            "127.0.0.1 - - [04/Dec/2020 19:51:12] \"\u001b[37mPOST /dashboard HTTP/1.1\u001b[0m\" 200 -\n",
            "127.0.0.1 - - [04/Dec/2020 19:51:36] \"\u001b[37mGET /static/images/fancybox_overlay.png HTTP/1.1\u001b[0m\" 200 -\n",
            "127.0.0.1 - - [04/Dec/2020 19:51:36] \"\u001b[37mGET /static/images/fancybox_sprite.png HTTP/1.1\u001b[0m\" 200 -\n",
            "127.0.0.1 - - [04/Dec/2020 19:51:36] \"\u001b[37mGET /static/images/fancybox_loading.gif HTTP/1.1\u001b[0m\" 200 -\n",
            "127.0.0.1 - - [04/Dec/2020 19:51:39] \"\u001b[37mGET /static/images/blank.html HTTP/1.1\u001b[0m\" 200 -\n",
            "127.0.0.1 - - [04/Dec/2020 19:51:56] \"\u001b[37mGET / HTTP/1.1\u001b[0m\" 200 -\n",
            "127.0.0.1 - - [04/Dec/2020 19:52:07] \"\u001b[37mGET /dashboard HTTP/1.1\u001b[0m\" 200 -\n",
            "127.0.0.1 - - [04/Dec/2020 19:52:27] \"\u001b[37mGET / HTTP/1.1\u001b[0m\" 200 -\n"
          ],
          "name": "stdout"
        }
      ]
    }
  ]
}